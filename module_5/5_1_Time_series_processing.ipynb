{
 "cells": [
  {
   "cell_type": "markdown",
   "metadata": {},
   "source": [
    "## Time series processing\n",
    "\n",
    "A time series is a sequence of data points recorded or measured at successive points in time, typically at equally spaced intervals. They are a fundamental source of information on dynamical systems across the different water domains. \n",
    "\n",
    "In this notebook we will cover some data pre-processing techniques that are unique to timeseries data and can help structuring the data in a way that improves the performance of machine learning models."
   ]
  },
  {
   "cell_type": "markdown",
   "metadata": {},
   "source": [
    "**1. Load libraries and data**"
   ]
  },
  {
   "cell_type": "code",
   "execution_count": null,
   "metadata": {},
   "outputs": [],
   "source": [
    "# Import libraries\n",
    "import numpy as np\n",
    "import pandas as pd\n",
    "import plotly.graph_objects as go\n",
    "from plotly.subplots import make_subplots\n",
    "import matplotlib.pyplot as plt\n"
   ]
  },
  {
   "cell_type": "code",
   "execution_count": null,
   "metadata": {},
   "outputs": [],
   "source": [
    "# Read data\n",
    "file_url = 'https://github.com/DHI/Intro_ML_course/raw/main/module_5/danube_discharge.csv'\n",
    "df = pd.read_csv(file_url, parse_dates=True, index_col=0)\n",
    "\n",
    "df.head()"
   ]
  },
  {
   "cell_type": "code",
   "execution_count": null,
   "metadata": {},
   "outputs": [],
   "source": [
    "df.tail()"
   ]
  },
  {
   "cell_type": "markdown",
   "metadata": {},
   "source": [
    "The dataset contains daily values recorded between 1998 and 2008:\n",
    "* average discharge in m3/s (Ceatal Izmail station, https://www.hidro.ro/)\n",
    "* average daily precipitation in mm/day (large area above lower Danube catchment, from ECMWF Reanalysis v5 (ERA5) - https://www.ecmwf.int/en/forecasts/dataset/ecmwf-reanalysis-v5)\n",
    "* average daily temperature in C degrees (same area and source as precipitation)"
   ]
  },
  {
   "cell_type": "code",
   "execution_count": null,
   "metadata": {},
   "outputs": [],
   "source": [
    "# Plot the three time series in subplots\n",
    "fig = make_subplots(rows=3, cols=1, shared_xaxes=True, vertical_spacing=0.07)\n",
    "\n",
    "fig.add_trace(go.Scatter(x=df.index, y=df['discharge'], name='Discharge (m3/s)'), row=1, col=1)\n",
    "fig.add_trace(go.Scatter(x=df.index, y=df['precipitation'], name='Precipitation (mm)'), row=2, col=1)\n",
    "fig.add_trace(go.Scatter(x=df.index, y=df['temperature'], name='Temperature (C)'), row=3, col=1)\n",
    "\n",
    "fig.update_yaxes(title_text=\"Discharge (m3/s)\", row=1, col=1)\n",
    "fig.update_yaxes(title_text=\"Precipitation (mm)\", row=2, col=1)\n",
    "fig.update_yaxes(title_text=\"Temperature (C)\", row=3, col=1)\n",
    "fig.update_layout(margin=dict(l=20, r=20, t=20, b=20), showlegend=False)\n",
    "\n",
    "fig.show()"
   ]
  },
  {
   "cell_type": "markdown",
   "metadata": {},
   "source": [
    "**2 Data trasnformations**\n",
    "\n",
    "Some common pre-processing techniques for timeseries data include:\n",
    "* Differencing: it consists in subtracting the previous observation from the current observation and is used to transform a time-series dataset to make it stationary\n",
    "* Rolling windows: used to perform moving aggregate computations, such as moving averages, sums, or other statistics.\n",
    "* Sin/Cos Transformations of Cyclic Features: trigonometric functions to encode these features in a way that preserves their cyclical nature."
   ]
  },
  {
   "cell_type": "code",
   "execution_count": null,
   "metadata": {},
   "outputs": [],
   "source": [
    "# Differencing\n",
    "df['discharge_diff'] = df['discharge'].diff()\n",
    "\n",
    "# Plot the differenced time series\n",
    "fig = make_subplots(rows=2, cols=2, shared_yaxes=True, shared_xaxes=True, vertical_spacing=0.07, horizontal_spacing=0.03)\n",
    "\n",
    "fig.add_trace(go.Scatter(x=df.index, y=df['discharge'], name='Discharge (m3/s)'), row=1, col=1)\n",
    "fig.add_trace(go.Scatter(x=df.index, y=df['discharge_diff'], name='Discharge diff (m3/s)'), row=2, col=1)\n",
    "\n",
    "fig.add_trace(go.Histogram(y=df['discharge'], name='Discharge (m3/s)'), row=1, col=2)\n",
    "fig.add_trace(go.Histogram(y=df['discharge_diff'], name='Discharge diff (m3/s)'), row=2, col=2)\n",
    "\n",
    "fig.update_yaxes(title_text=\"Discharge (m3/s)\", row=1, col=1)\n",
    "fig.update_yaxes(title_text=\"Discharge diff (m3/s)\", row=2, col=1)\n",
    "\n",
    "fig.update_layout(margin=dict(l=20, r=20, t=20, b=20), showlegend=False)\n",
    "\n",
    "fig.show()"
   ]
  },
  {
   "cell_type": "code",
   "execution_count": null,
   "metadata": {},
   "outputs": [],
   "source": [
    "# Rolling window - sum\n",
    "df['precip_monthly_sum'] = df['precipitation'].rolling(30).sum()\n",
    "\n",
    "# Plot the rolling window\n",
    "fig = make_subplots(rows=2, cols=1, shared_yaxes=True, shared_xaxes=True, vertical_spacing=0.07, horizontal_spacing=0.03)\n",
    "\n",
    "fig.add_trace(go.Scatter(x=df.index, y=df['precipitation']), row=1, col=1)\n",
    "fig.add_trace(go.Scatter(x=df.index, y=df['precip_monthly_sum']), row=2, col=1)\n",
    "\n",
    "fig.update_yaxes(title_text=\"Precip. daily (mm)\", row=1, col=1)\n",
    "fig.update_yaxes(title_text=\"Precip. monthly (mm)\", row=2, col=1)\n",
    "\n",
    "fig.update_layout(margin=dict(l=20, r=20, t=20, b=20), showlegend=False)\n",
    "\n",
    "fig.show()"
   ]
  },
  {
   "cell_type": "code",
   "execution_count": null,
   "metadata": {},
   "outputs": [],
   "source": [
    "# Roilling window - mean\n",
    "df['temperature_weekly_mean'] = df['temperature'].rolling(7).mean()\n",
    "\n",
    "# Plot the rolling window\n",
    "fig = make_subplots(rows=2, cols=1, shared_yaxes=True, shared_xaxes=True, vertical_spacing=0.07, horizontal_spacing=0.03)\n",
    "\n",
    "fig.add_trace(go.Scatter(x=df.index, y=df['temperature']), row=1, col=1)\n",
    "fig.add_trace(go.Scatter(x=df.index, y=df['temperature_weekly_mean']), row=2, col=1)\n",
    "\n",
    "fig.update_yaxes(title_text=\"Temp. (C)\", row=1, col=1)\n",
    "fig.update_yaxes(title_text=\"Temp. weekly mean (C)\", row=2, col=1)\n",
    "\n",
    "fig.update_layout(margin=dict(l=20, r=20, t=20, b=20), showlegend=False)\n",
    "\n",
    "fig.show()"
   ]
  },
  {
   "cell_type": "code",
   "execution_count": null,
   "metadata": {},
   "outputs": [],
   "source": [
    "# Cylic features - sin and cos transform\n",
    "df['month_sin'] = np.sin(2*np.pi*df.index.month/12)\n",
    "df['month_cos'] = np.cos(2*np.pi*df.index.month/12)\n",
    "\n",
    "# Plot the cyclic features\n",
    "fig = make_subplots(rows=3, cols=1, shared_yaxes=True, shared_xaxes=True, vertical_spacing=0.07, horizontal_spacing=0.03)\n",
    "\n",
    "fig.add_trace(go.Scatter(x=df.index, y=df.index.month), row=1, col=1)\n",
    "fig.add_trace(go.Scatter(x=df.index, y=df['month_sin']), row=2, col=1)\n",
    "fig.add_trace(go.Scatter(x=df.index, y=df['month_cos']), row=3, col=1)\n",
    "\n",
    "fig.update_yaxes(title_text=\"Month\", row=1, col=1)\n",
    "fig.update_yaxes(title_text=\"Sin(month)\", row=2, col=1)\n",
    "fig.update_yaxes(title_text=\"Cos(month)\", row=3, col=1)\n",
    "\n",
    "fig.update_layout(margin=dict(l=20, r=20, t=20, b=20), showlegend=False)\n",
    "\n",
    "fig.show()"
   ]
  },
  {
   "cell_type": "markdown",
   "metadata": {},
   "source": [
    "**3 Data alignment**\n",
    "\n",
    "When dealing with time series, it's important that the input and target features are correctly aligned in the time dimension to meet the desired objective. See the pre-recorded presentation for additional details on the motivation behind these data alignments."
   ]
  },
  {
   "cell_type": "code",
   "execution_count": null,
   "metadata": {},
   "outputs": [],
   "source": [
    "# Step-wise\n",
    "df_step = df[['discharge']].copy()\n",
    "df_step.columns = ['x_t']\n",
    "df_step['x_t+1'] = df_step['x_t'].shift(-1)\n",
    "\n",
    "df_step.head(6)"
   ]
  },
  {
   "cell_type": "code",
   "execution_count": null,
   "metadata": {},
   "outputs": [],
   "source": [
    "df_step.tail(6)"
   ]
  },
  {
   "cell_type": "code",
   "execution_count": null,
   "metadata": {},
   "outputs": [],
   "source": [
    "# Window-input\n",
    "df_window = df[['discharge']].copy()\n",
    "df_window.columns = ['x_t']\n",
    "df_window['x_t+1'] = df_window['x_t'].shift(-1)\n",
    "df_window['x_t-1'] = df_window['x_t'].shift(1)\n",
    "df_window['x_t-2'] = df_window['x_t'].shift(2)\n",
    "\n",
    "# Reorder columns\n",
    "df_window = df_window[['x_t-2', 'x_t-1', 'x_t', 'x_t+1']]\n",
    "\n",
    "df_window.head(6)"
   ]
  },
  {
   "cell_type": "code",
   "execution_count": null,
   "metadata": {},
   "outputs": [],
   "source": [
    "df_window.tail(6)"
   ]
  },
  {
   "cell_type": "code",
   "execution_count": null,
   "metadata": {},
   "outputs": [],
   "source": [
    "# Forecast horizon\n",
    "df_horizon = df[['discharge']].copy()\n",
    "df_horizon.columns = ['x_t']\n",
    "df_horizon['x_t+1'] = df_horizon['x_t'].shift(-1)\n",
    "df_horizon['x_t+2'] = df_horizon['x_t'].shift(-2)\n",
    "df_horizon['x_t+3'] = df_horizon['x_t'].shift(-3)\n",
    "df_horizon['x_t-1'] = df_horizon['x_t'].shift(1)\n",
    "df_horizon['x_t-2'] = df_horizon['x_t'].shift(2)\n",
    "\n",
    "# Reorder columns\n",
    "df_horizon = df_horizon[['x_t-2', 'x_t-1', 'x_t', 'x_t+1', 'x_t+2', 'x_t+3']]\n",
    "\n",
    "df_horizon.head(6)"
   ]
  },
  {
   "cell_type": "code",
   "execution_count": null,
   "metadata": {},
   "outputs": [],
   "source": [
    "df_horizon.tail(6)"
   ]
  },
  {
   "cell_type": "code",
   "execution_count": null,
   "metadata": {},
   "outputs": [],
   "source": [
    "# Multivariate input\n",
    "df_multi = df[['discharge', 'precipitation', 'temperature']].copy()\n",
    "df_multi.columns = ['y_t', 'x1_t', 'x2_t']\n",
    "df_multi['y_t+1'] = df_multi['y_t'].shift(-1)\n",
    "\n",
    "# Reorder columns and drop y_t\n",
    "df_multi = df_multi[['x1_t', 'x2_t', 'y_t', 'y_t+1']]\n",
    "\n",
    "df_multi.head(6)"
   ]
  },
  {
   "cell_type": "code",
   "execution_count": null,
   "metadata": {},
   "outputs": [],
   "source": [
    "df_multi.tail(6)"
   ]
  }
 ],
 "metadata": {
  "kernelspec": {
   "display_name": "keras",
   "language": "python",
   "name": "python3"
  },
  "language_info": {
   "codemirror_mode": {
    "name": "ipython",
    "version": 3
   },
   "file_extension": ".py",
   "mimetype": "text/x-python",
   "name": "python",
   "nbconvert_exporter": "python",
   "pygments_lexer": "ipython3",
   "version": "3.10.12"
  }
 },
 "nbformat": 4,
 "nbformat_minor": 2
}
