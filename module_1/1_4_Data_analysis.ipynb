{
 "cells": [
  {
   "cell_type": "markdown",
   "metadata": {},
   "source": [
    "## Exploratory data analysis\n",
    "\n",
    "In this module we will cover some simple methods to explore, correct and analyse the content of a dataset.\n",
    "We will use the \"large rivers\" dataset as example, as it will be used in the following modules.\n",
    "This notebook uses methods from three common python libraries, namely *numpy*, *pandas*, and *matplotlib*.\n",
    "It can, therefore, also serve as recap for those of you who haven't coded in python for a while.\n",
    "\n",
    "Please, note that some small exercises are scattered along the notebook. \n",
    "We strongly encourage you to solve the exercises before the next live session, when we will provide a possible solution."
   ]
  },
  {
   "cell_type": "markdown",
   "metadata": {},
   "source": [
    "**1. Load libraries and data**"
   ]
  },
  {
   "cell_type": "code",
   "execution_count": null,
   "metadata": {},
   "outputs": [],
   "source": [
    "# Import libraries\n",
    "import numpy as np\n",
    "import pandas as pd\n",
    "import matplotlib.pyplot as plt"
   ]
  },
  {
   "cell_type": "code",
   "execution_count": null,
   "metadata": {},
   "outputs": [],
   "source": [
    "# Read dataframe from xlsx file\n",
    "file_url = 'https://github.com/DHI/Intro_ML_course/raw/main/module_1/large_rivers.xlsx'\n",
    "df = pd.read_excel(file_url, sheet_name='data')\n",
    "\n",
    "# If you are unable to read the file from the url, you can download it and read it locally \n",
    "# Type the correct file path and import with pandas\n",
    "# file_path = 'large_rivers_mod.xlsx'\n",
    "# df = pd.read_excel(file_path, sheet_name='data')"
   ]
  },
  {
   "cell_type": "code",
   "execution_count": null,
   "metadata": {},
   "outputs": [],
   "source": [
    "# Read table of units from xlsx file\n",
    "units = pd.read_excel(file_url, sheet_name='units')\n",
    "\n",
    "# Print units\n",
    "units"
   ]
  },
  {
   "cell_type": "markdown",
   "metadata": {},
   "source": [
    "**2. Initial Inspection**\n",
    "\n",
    "- Data Structure: Understand the number of rows (samples) and columns (features) using df.shape.\n",
    "- Column Data Types: Check the types of each column using df.dtypes.\n",
    "- Preview Data: Quickly view the first and last rows with df.head() and df.tail()"
   ]
  },
  {
   "cell_type": "code",
   "execution_count": null,
   "metadata": {},
   "outputs": [],
   "source": [
    "print(df.shape) # (rows, columns)"
   ]
  },
  {
   "cell_type": "code",
   "execution_count": null,
   "metadata": {},
   "outputs": [],
   "source": [
    "print(df.dtypes) # Data types of each column"
   ]
  },
  {
   "cell_type": "code",
   "execution_count": null,
   "metadata": {},
   "outputs": [],
   "source": [
    "df.head() # First 5 rows"
   ]
  },
  {
   "cell_type": "markdown",
   "metadata": {},
   "source": [
    "**3. Summary Statistics**\n",
    "\n",
    "- Descriptive Statistics: Use df.describe() for central tendency, spread, and shape of the dataset’s distribution.\n",
    "- Unique Values: For categorical columns, check the unique values and their counts."
   ]
  },
  {
   "cell_type": "code",
   "execution_count": null,
   "metadata": {},
   "outputs": [],
   "source": [
    "df.describe() # Summary statistics"
   ]
  },
  {
   "cell_type": "code",
   "execution_count": null,
   "metadata": {},
   "outputs": [],
   "source": [
    "print(df['Continent'].value_counts()) # Count of each value in categorical variable"
   ]
  },
  {
   "cell_type": "markdown",
   "metadata": {},
   "source": [
    "**4. Data Cleaning**\n",
    "\n",
    "- Missing Values: Identify and handle missing values. You can use df.isnull().sum() to check for missing values.\n",
    "- Duplicates: Check and remove duplicate rows if they exist."
   ]
  },
  {
   "cell_type": "code",
   "execution_count": null,
   "metadata": {},
   "outputs": [],
   "source": [
    "print(df.isnull().sum()) # Count of missing values in each column"
   ]
  },
  {
   "cell_type": "code",
   "execution_count": null,
   "metadata": {},
   "outputs": [],
   "source": [
    "df[df['Continent'].isnull()] # Find rivers with missing continent"
   ]
  },
  {
   "cell_type": "code",
   "execution_count": null,
   "metadata": {},
   "outputs": [],
   "source": [
    "df.loc[df['Name'] == 'Rhine', 'Continent'] = 'Europe' # Assign Europe to Rhine river\n",
    "\n",
    "df[df['Name'] == 'Rhine'] # Check that Rhine river has been assigned to Europe"
   ]
  },
  {
   "cell_type": "code",
   "execution_count": null,
   "metadata": {},
   "outputs": [],
   "source": [
    "df[df['Temperature'].isnull()] # Find river with missing temperature"
   ]
  },
  {
   "cell_type": "code",
   "execution_count": null,
   "metadata": {},
   "outputs": [],
   "source": [
    "# Find temperature statistics for rivers in Souther America\n",
    "df[df['Continent'] == 'South America']['Temperature'].describe()"
   ]
  },
  {
   "cell_type": "markdown",
   "metadata": {},
   "source": [
    "**Exercise 1.1**\n",
    "\n",
    "Assign mean temperature of South American rivers to Putumayo river.\n",
    "Then, check that the value has been assigned correclty\n",
    "\n"
   ]
  },
  {
   "cell_type": "code",
   "execution_count": null,
   "metadata": {},
   "outputs": [],
   "source": []
  },
  {
   "cell_type": "markdown",
   "metadata": {},
   "source": [
    "**5. Visual Exploratory Data Analysis**\n",
    "\n",
    "- Bar Charts: For categorical data distribution.\n",
    "- Histograms: For understanding the distribution of individual numeric variables.\n",
    "- Box Plots: To visualize basic summary statistics and detect outliers.\n",
    "- Scatter Plots: To understand relationships between two numerical variables.\n",
    "- Correlation Heatmaps: To identify relationships between numerical columns."
   ]
  },
  {
   "cell_type": "code",
   "execution_count": null,
   "metadata": {},
   "outputs": [],
   "source": [
    "# Plot number of rivers per continent\n",
    "df['Continent'].value_counts().plot(kind='bar')\n",
    "plt.ylabel('Number of rivers')\n",
    "plt.show()"
   ]
  },
  {
   "cell_type": "code",
   "execution_count": null,
   "metadata": {},
   "outputs": [],
   "source": [
    "# Plot histograms of all numeric columns\n",
    "df.hist(figsize=(12, 10), bins=20)\n",
    "plt.show()"
   ]
  },
  {
   "cell_type": "code",
   "execution_count": null,
   "metadata": {},
   "outputs": [],
   "source": [
    "# Plot boxplot of discharge\n",
    "df.boxplot(column='Discharge')\n",
    "plt.ylabel('m3/s')\n",
    "\n",
    "#'''\n",
    "# Add label for river with largest discharge\n",
    "max_discharge_river = df.loc[df['Discharge'].idxmax(), 'Name']\n",
    "max_discharge = df['Discharge'].max()\n",
    "plt.annotate(max_discharge_river, \n",
    "             xy=(1, max_discharge), xytext=(1.05, max_discharge))\n",
    "\n",
    "plt.show()\n",
    "#'''"
   ]
  },
  {
   "cell_type": "markdown",
   "metadata": {},
   "source": [
    "**Exercise 1.2**\n",
    "\n",
    "Plot boxplot of discharge only in the range from 0 to 50000 m3/s"
   ]
  },
  {
   "cell_type": "code",
   "execution_count": null,
   "metadata": {},
   "outputs": [],
   "source": []
  },
  {
   "cell_type": "markdown",
   "metadata": {},
   "source": [
    "**Exercise 1.3**\n",
    "\n",
    "Compute the relative difference between flow acculumation and area as *rel_diff = (flow acc. - area)/area*.\n",
    "Then, plot the histogram of the result to better visualize the difference between the two features."
   ]
  },
  {
   "cell_type": "code",
   "execution_count": null,
   "metadata": {},
   "outputs": [],
   "source": []
  },
  {
   "cell_type": "code",
   "execution_count": null,
   "metadata": {},
   "outputs": [],
   "source": [
    "# Select only numerical columns\n",
    "numeric_df = df.select_dtypes(include=[np.number])\n",
    "\n",
    "# Calculate correlation matrix\n",
    "cor_matrix = numeric_df.corr(method='pearson')\n",
    "\n",
    "# Print correlation values for Discharge\n",
    "cor_matrix['Discharge'].sort_values(ascending=False)"
   ]
  },
  {
   "cell_type": "code",
   "execution_count": null,
   "metadata": {},
   "outputs": [],
   "source": [
    "# Create the heatmap\n",
    "fig, ax = plt.subplots(figsize=(10, 6))\n",
    "cax = ax.matshow(cor_matrix, cmap='coolwarm')\n",
    "fig.colorbar(cax)\n",
    "\n",
    "# Set up the axis labels\n",
    "plt.xticks(range(len(cor_matrix.columns)), cor_matrix.columns, rotation=90)\n",
    "plt.yticks(range(len(cor_matrix.columns)), cor_matrix.columns)\n",
    "\n",
    "# Show plot\n",
    "plt.show()"
   ]
  },
  {
   "cell_type": "markdown",
   "metadata": {},
   "source": [
    "**Exercise 1.4**\n",
    "\n",
    "Plot heatmap of a new correlation matrix that inlcudes only discharge, area, width, and length, wet days and precipitation."
   ]
  },
  {
   "cell_type": "code",
   "execution_count": null,
   "metadata": {},
   "outputs": [],
   "source": []
  },
  {
   "cell_type": "code",
   "execution_count": null,
   "metadata": {},
   "outputs": [],
   "source": [
    "# Remove flow accumulation from dataframe\n",
    "df = df.drop('Flow acc.', axis=1)"
   ]
  },
  {
   "cell_type": "code",
   "execution_count": null,
   "metadata": {},
   "outputs": [],
   "source": [
    "# Save processed dataframe to csv file\n",
    "df.to_csv('large_rivers_processed.csv', index=False)"
   ]
  }
 ],
 "metadata": {
  "kernelspec": {
   "display_name": "keras",
   "language": "python",
   "name": "python3"
  },
  "language_info": {
   "codemirror_mode": {
    "name": "ipython",
    "version": 3
   },
   "file_extension": ".py",
   "mimetype": "text/x-python",
   "name": "python",
   "nbconvert_exporter": "python",
   "pygments_lexer": "ipython3",
   "version": "3.10.12"
  },
  "orig_nbformat": 4
 },
 "nbformat": 4,
 "nbformat_minor": 2
}
