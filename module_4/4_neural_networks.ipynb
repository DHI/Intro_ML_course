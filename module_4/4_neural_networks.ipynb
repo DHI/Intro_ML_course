{
  "cells": [
    {
      "cell_type": "markdown",
      "metadata": {
        "id": "BQ1PHaOBCueJ"
      },
      "source": [
        "# Module 4 - Introduction to Neural Networks: Training a Multi-Layer Perceptron\n"
      ]
    },
    {
      "cell_type": "markdown",
      "metadata": {
        "id": "1Z4p6HSIEaUI"
      },
      "source": [
        "<table align=\"left\">\n",
        "  <td>\n",
        "    <a href=\"https://colab.research.google.com/github/DHI/Intro_ML_course/blob/main/module_4/4_neural_networks.ipynb\" target=\"_parent\"><img src=\"https://colab.research.google.com/assets/colab-badge.svg\" alt=\"Open In Colab\"/></a>\n",
        "  </td>\n",
        "</table>"
      ]
    },
    {
      "cell_type": "markdown",
      "metadata": {
        "id": "QdgQdshgGGb3"
      },
      "source": [
        "In this notebook, we will delve into the fascinating world of neural networks, particularly focusing on training a Multi-Layer Perceptron (MLP) for image classification. Our objective is to utilize the renowned CIFAR-10 dataset, converted to black and white, to introduce you to the fundamentals of building and training neural networks.\n",
        "\n",
        "### Objectives\n",
        "\n",
        "1. Implement an architecture using the `Sequential` model in Keras.\n",
        "2. Compile the model with suitable parameters for efficient training.\n",
        "3. Utilize various callbacks such as `ReduceLROnPlateau` and `EarlyStopping` to enhance training performance.\n",
        "4. Study the impact of different batch sizes on the training speed and overall performance of the model.\n",
        "5. Visualize the results, including model predictions, to gain insights into the learning process and performance metrics.\n",
        "\n",
        "Throughout this notebook, we will provide step-by-step instructions, code demonstrations, and explanations to help you understand the key concepts and methodologies involved in training neural networks for image classification tasks. By the end of this tutorial, you will have a solid understanding of how to build and train a basic neural network for image classification tasks, along with valuable insights into best practices and performance optimization techniques.\n",
        "\n",
        "Let's embark on this exciting journey into the realm of neural networks and image classification!"
      ]
    },
    {
      "cell_type": "code",
      "execution_count": null,
      "metadata": {
        "id": "RVtDqAHLL_I1"
      },
      "outputs": [],
      "source": [
        "# Import necessary libraries\n",
        "import numpy as np\n",
        "import matplotlib.pyplot as plt\n",
        "import tensorflow as tf\n",
        "from tensorflow import keras\n",
        "from keras import layers\n",
        "from sklearn.metrics import confusion_matrix, accuracy_score\n",
        "import seaborn as sns"
      ]
    },
    {
      "cell_type": "markdown",
      "metadata": {
        "id": "sNoAfEHa-bV_"
      },
      "source": [
        "# 1. Load the CIFAR-10 Dataset"
      ]
    },
    {
      "cell_type": "markdown",
      "metadata": {
        "id": "BK7bdHq4Gbc6"
      },
      "source": [
        "Before we dive into building and training the Multi-Layer Perceptron (MLP) model, we need to load the CIFAR-10 dataset. CIFAR-10 is a popular image classification dataset that consists of 60,000 32x32 color images in 10 classes, with 6,000 images per class. Created by Alex Krizhevsky, Vinod Nair, and Geoffrey Hinton, this dataset serves as a benchmark for training and evaluating various image classification models. In this notebook, we will convert the images to grayscale for simplicity.\n",
        "\n",
        "The dataset is conveniently available through the `tf.keras.datasets.cifar10` module, which allows us to easily load the dataset for training and testing our neural network. The loaded data will be split into training and testing sets, consisting of images and corresponding labels that we will use to train and evaluate our MLP model.\n",
        "\n",
        "Let's load the CIFAR-10 dataset and get ready to explore the fascinating world of neural networks and image classification!\n"
      ]
    },
    {
      "cell_type": "code",
      "execution_count": null,
      "metadata": {
        "id": "YN_TVxeANx1A"
      },
      "outputs": [],
      "source": [
        "# Load the CIFAR-10 dataset\n",
        "(train_images, train_labels), (test_images, test_labels) = tf.keras.datasets.cifar10.load_data()"
      ]
    },
    {
      "cell_type": "markdown",
      "metadata": {
        "id": "xSNNejzHHWUC"
      },
      "source": [
        "There are 60,000 images of 32 by 32 pixels - 50,000 for training and validation and 10,000 for testing. The images are in color so each pixel is defined by its red, green and blue level."
      ]
    },
    {
      "cell_type": "code",
      "execution_count": null,
      "metadata": {
        "colab": {
          "base_uri": "https://localhost:8080/"
        },
        "id": "VTByU9IpHTtx",
        "outputId": "525a6c71-7bc9-47b2-a1b2-065950bf20a1"
      },
      "outputs": [],
      "source": [
        "train_images.shape"
      ]
    },
    {
      "cell_type": "markdown",
      "metadata": {
        "id": "GPi9yntSIqIT"
      },
      "source": [
        "The labels are integers between 0 and 9:"
      ]
    },
    {
      "cell_type": "code",
      "execution_count": null,
      "metadata": {
        "colab": {
          "base_uri": "https://localhost:8080/"
        },
        "id": "op9YSvXnHSLz",
        "outputId": "a3b7f33b-c65d-4202-e94e-d3ef728d20b7"
      },
      "outputs": [],
      "source": [
        "print(train_labels)"
      ]
    },
    {
      "cell_type": "markdown",
      "metadata": {
        "id": "skpbOK2WJLdd"
      },
      "source": [
        "Let's define the class names corresponding to the CIFAR-10 dataset to establish a relationship between the previous integers and the classes.\n",
        "- 0: `airplane`\n",
        "- 1: `automobile`\n",
        "- 2: `bird`\n",
        "- 3: `cat`\n",
        "- 4: `deer`\n",
        "- 5: `dog`\n",
        "- 6: `frog`\n",
        "- 7: `horse`\n",
        "- 8: `ship`\n",
        "- 9: `truck`"
      ]
    },
    {
      "cell_type": "code",
      "execution_count": null,
      "metadata": {
        "id": "S2dn5MpcOMAd"
      },
      "outputs": [],
      "source": [
        "# Define the class names for CIFAR-10\n",
        "class_names = ['airplane', 'automobile', 'bird', 'cat', 'deer',\n",
        "               'dog', 'frog', 'horse', 'ship', 'truck']"
      ]
    },
    {
      "cell_type": "code",
      "execution_count": null,
      "metadata": {
        "colab": {
          "base_uri": "https://localhost:8080/",
          "height": 826
        },
        "id": "A62f5rxfN2Gn",
        "outputId": "728aaa5c-e650-465c-b304-53180a1a2133"
      },
      "outputs": [],
      "source": [
        "# Display some sample images\n",
        "plt.figure(figsize=(10, 10))\n",
        "for i in range(25):\n",
        "    plt.subplot(5, 5, i+1)\n",
        "    plt.xticks([])\n",
        "    plt.yticks([])\n",
        "    plt.grid(False)\n",
        "    plt.imshow(train_images[i])\n",
        "    plt.xlabel(class_names[train_labels[i][0]])\n",
        "plt.show()"
      ]
    },
    {
      "cell_type": "markdown",
      "metadata": {
        "id": "epow3FIQ-Yny"
      },
      "source": [
        "# 2. Pre-process the data"
      ]
    },
    {
      "cell_type": "markdown",
      "metadata": {
        "id": "CW9olGCxKyqw"
      },
      "source": [
        "Before training our neural network, we pre-process the CIFAR-10 images to one-dimensional vector, as we saw in the video:\n",
        "1.   **Conversion to grayscale**: We average the RGB values to obtain a single intensity\n",
        "2.   **Flattening**: We transform the $32 \\times 32$ pixels images into a one-dimensional vector, where each element represents the intensity value of a single pixel.\n",
        "3.  **Scaling**: Convert the intensities from integers in the range 0-255 to a `float` value between 0 and 1."
      ]
    },
    {
      "cell_type": "code",
      "execution_count": null,
      "metadata": {
        "colab": {
          "base_uri": "https://localhost:8080/"
        },
        "id": "f-rqmYTtNa_T",
        "outputId": "606d760d-4a46-47ac-e702-7eccaa179286"
      },
      "outputs": [],
      "source": [
        "print(train_images[0, :, :, 0]) # red band of first image"
      ]
    },
    {
      "cell_type": "code",
      "execution_count": null,
      "metadata": {
        "colab": {
          "base_uri": "https://localhost:8080/"
        },
        "id": "M-QFq_iDUscr",
        "outputId": "70274124-f5a7-434e-bbc5-41fb96d4b6e8"
      },
      "outputs": [],
      "source": [
        "print('Shape of dataset before pre-processing', train_images.shape)\n",
        "\n",
        "# Convert to grayscale\n",
        "train_data = train_images.mean(axis=-1)\n",
        "test_data = test_images.mean(axis=-1)\n",
        "print('Shape of dataset after grayscale', train_data.shape)\n",
        "\n",
        "# Flatten images - convert to a 1d vector\n",
        "train_data = train_data.reshape((50000, 32*32))\n",
        "test_data = test_data.reshape((10000, 32*32))\n",
        "print('Shape of dataset after flattening', train_data.shape)\n",
        "\n",
        "# Scaling - from 0-255 to 0-1\n",
        "train_data = train_data/255.\n",
        "test_data = test_data/255."
      ]
    },
    {
      "cell_type": "code",
      "execution_count": null,
      "metadata": {
        "colab": {
          "base_uri": "https://localhost:8080/"
        },
        "id": "8PbAUVp5NZwR",
        "outputId": "ab967326-3956-49a6-8e20-07c529b6f298"
      },
      "outputs": [],
      "source": [
        "print(train_data[0]) # 1d vector corresponding to first image"
      ]
    },
    {
      "cell_type": "markdown",
      "metadata": {
        "id": "npn6m4MGNwhH"
      },
      "source": [
        "Flattened, the images look like this:"
      ]
    },
    {
      "cell_type": "code",
      "execution_count": null,
      "metadata": {
        "colab": {
          "base_uri": "https://localhost:8080/",
          "height": 176
        },
        "id": "LiwUsKwGN0r4",
        "outputId": "c158d0de-6db5-457f-9f16-e8851fccb78b"
      },
      "outputs": [],
      "source": [
        "fig, ax = plt.subplots(figsize=(10, 4))\n",
        "ax.imshow(train_data[0].reshape(1, -1), cmap='gray')\n",
        "ax.set_aspect(100)\n",
        "ax.set_title('This is a ' + class_names[train_labels[0][0]])"
      ]
    },
    {
      "cell_type": "markdown",
      "metadata": {
        "id": "QVGX1D_HPB42"
      },
      "source": [
        "# 3. Build a multi-layer perceptron (MLP)"
      ]
    },
    {
      "cell_type": "markdown",
      "metadata": {
        "id": "tVDu8loiPUHT"
      },
      "source": [
        "\n",
        "We construct a Multi-Layer Perceptron (MLP) model using the Keras `Sequential` API. The model architecture consists of the following layers:\n",
        "\n",
        "1. **Input Layer:** The input shape is explicitly defined to accept the flattened black and white images.\n",
        "\n",
        "2. **Dense Layers:** We incorporate two hidden dense layers with 128 and 64 neurons, respectively, using `ReLU` (Rectified Linear Unit) activation functions. These layers enable the network to learn complex patterns and representations from the flattened input data.\n",
        "\n",
        "3. **Output Layer:** The final dense layer consists of 10 neurons, representing the probabilties of each of the 10 classes in the CIFAR-10 dataset. The `SoftMax` activation function converts raw values to probabilties (values between 0 and 1 which sum is equal to 1).\n",
        "\n",
        "By constructing this MLP model, we aim to leverage its capacity to learn and classify the pre-processed image data accurately. Let's proceed with compiling the model and configuring the necessary parameters for training.\n"
      ]
    },
    {
      "cell_type": "code",
      "execution_count": null,
      "metadata": {
        "id": "QcAdygu3N5tk"
      },
      "outputs": [],
      "source": [
        "model = keras.Sequential([\n",
        "    layers.Input(shape=(1024,)),\n",
        "    layers.Dense(128, activation='relu'),\n",
        "    layers.Dense(64, activation='relu'),\n",
        "    layers.Dense(10, activation='softmax')\n",
        "])"
      ]
    },
    {
      "cell_type": "code",
      "execution_count": null,
      "metadata": {
        "colab": {
          "base_uri": "https://localhost:8080/"
        },
        "id": "88IBmP9Lvwwi",
        "outputId": "a3037e59-2980-48fe-cef3-5df52c62ea5c"
      },
      "outputs": [],
      "source": [
        "model.summary()"
      ]
    },
    {
      "cell_type": "markdown",
      "metadata": {
        "id": "si3ojl7IRqWL"
      },
      "source": [
        "\n",
        "After constructing the layers of our Multi-Layer Perceptron (MLP) model, we need to compile it to configure the learning process. The `compile` method allows us to define the optimizer, loss function, and evaluation metrics for training the model. In this case, we set the following configurations:\n",
        "\n",
        "1. **Optimizer:** We utilize the widely-used `Adam` optimizer which is gradient descent method.\n",
        "\n",
        "2. **Learning Rate:** The learning rate parameter controls the step size during optimization and influences the speed and quality of convergence during training.\n",
        "\n",
        "3. **Loss Function:** For the multi-class classification task, we employ the `SparseCategoricalCrossentropy` loss function, which is well-suited for scenarios where the target labels are provided as integers.\n",
        "\n",
        "4. **Metrics:** We track the 'accuracy' metric during training to monitor the performance of the model and assess its classification accuracy."
      ]
    },
    {
      "cell_type": "code",
      "execution_count": null,
      "metadata": {
        "id": "3VwTGcyWPyIe"
      },
      "outputs": [],
      "source": [
        "model.compile(optimizer=tf.keras.optimizers.Adam(learning_rate=0.0001),\n",
        "              loss=tf.keras.losses.SparseCategoricalCrossentropy(),\n",
        "              metrics=['accuracy'])"
      ]
    },
    {
      "cell_type": "markdown",
      "metadata": {
        "id": "FMr_susNY3X6"
      },
      "source": [
        "# 4. Train the model"
      ]
    },
    {
      "cell_type": "markdown",
      "metadata": {
        "id": "umU2bsqSYmlp"
      },
      "source": [
        "\n",
        "To train the Multi-Layer Perceptron (MLP) model on the pre-processed CIFAR-10 dataset, we utilize the magical function `model.fit` function. We need to provide the following:\n",
        "\n",
        "1. **Training Data:** The pre-processed training data is provided to the model for learning patterns and features associated with the input images.\n",
        "\n",
        "2. **Training Labels:** The corresponding labels for the training data are provided to guide the model during the learning process.\n",
        "\n",
        "3. **Batch Size:** We set the batch size to 128, determining the number of samples used in each iteration for updating the model's weights.\n",
        "\n",
        "4. **Epochs:** The model is trained for 10 epochs, representing the number of times the entire dataset is passed forward and backward through the neural network.\n",
        "\n",
        "5. **Validation Data:** We evaluate the model's performance on the provided test dataset (`test_data` and `test_labels`) to monitor its generalization ability during training.\n"
      ]
    },
    {
      "cell_type": "code",
      "execution_count": null,
      "metadata": {
        "colab": {
          "base_uri": "https://localhost:8080/"
        },
        "id": "FDIO6XvSWYoM",
        "outputId": "85dfbd2f-6d99-495c-bd9a-bb05bb340eff"
      },
      "outputs": [],
      "source": [
        "history = model.fit(train_data, train_labels, batch_size=64, epochs=10, validation_data=(test_data, test_labels))"
      ]
    },
    {
      "cell_type": "code",
      "execution_count": null,
      "metadata": {
        "colab": {
          "base_uri": "https://localhost:8080/",
          "height": 490
        },
        "id": "FU7TYQw0XdjN",
        "outputId": "e92e8797-5372-49cb-c2e4-3bab787ae0b6"
      },
      "outputs": [],
      "source": [
        "plt.plot(history.history['loss'], label='train')\n",
        "plt.plot(history.history['val_loss'], label='validation')\n",
        "plt.ylabel('Loss')\n",
        "plt.xlabel('Epoch')\n",
        "plt.legend()\n",
        "plt.title('Learning curves')"
      ]
    },
    {
      "cell_type": "markdown",
      "metadata": {
        "id": "hkAsghTpYUj8"
      },
      "source": [
        "It appears that the model is in the process of learning, but after 10 epochs, it's possible that the model has not fully converged. To ensure that the model has sufficient time to learn the underlying patterns in the data, we will continue the learning but, this time, with an *early stopping callback*.\n",
        "This technique allows us to continue training the model until the validation loss stabilizes, indicating that the model has reached an optimal point of convergence. By incorporating the early stopping mechanism, we can prevent overfitting and ensure that the model generalizes well to unseen data."
      ]
    },
    {
      "cell_type": "code",
      "execution_count": null,
      "metadata": {
        "colab": {
          "base_uri": "https://localhost:8080/"
        },
        "id": "jX7qLyLzZjTM",
        "outputId": "b83545cd-f9a6-4b37-971a-91f2b601278c"
      },
      "outputs": [],
      "source": [
        "# Defining the early stopping callback\n",
        "early_stopping = tf.keras.callbacks.EarlyStopping(monitor='val_loss', patience=3, restore_best_weights=True)\n",
        "\n",
        "# Training the model with the early stopping callback\n",
        "history = model.fit(train_data, train_labels,\n",
        "                    batch_size=128,\n",
        "                    epochs=100,\n",
        "                    validation_data=(test_data, test_labels),\n",
        "                    callbacks=[early_stopping])"
      ]
    },
    {
      "cell_type": "markdown",
      "metadata": {
        "id": "H5A309VhaKoJ"
      },
      "source": [
        "**Note**: Here, `patience=3` implies that training will stop after 3 epochs with no improvement in the validation loss. Setting `restore_best_weights=True` ensures that the model's weights are restored to the best achieved state, as determined by the minimum loss on the test data, at the end of training."
      ]
    },
    {
      "cell_type": "code",
      "execution_count": null,
      "metadata": {
        "colab": {
          "base_uri": "https://localhost:8080/",
          "height": 490
        },
        "id": "0m7HfnWcp7uW",
        "outputId": "f68d8783-a2aa-4b9d-f93e-4ced44ea47e8"
      },
      "outputs": [],
      "source": [
        "plt.plot(history.history['loss'], label='train')\n",
        "plt.plot(history.history['val_loss'], label='validation')\n",
        "plt.ylabel('Loss')\n",
        "plt.xlabel('Epoch')\n",
        "plt.legend()\n",
        "plt.title('Learning curves - part 2')"
      ]
    },
    {
      "cell_type": "markdown",
      "metadata": {
        "id": "ixvuKhBm1nUk"
      },
      "source": [
        "We might want to increase the patience, it seems like the model did not converge yet..."
      ]
    },
    {
      "cell_type": "markdown",
      "metadata": {
        "id": "soRCd2m795FW"
      },
      "source": [
        "**Reminder**: https://playground.tensorflow.org/ is a great resource to get an understanding of neural networks"
      ]
    },
    {
      "cell_type": "markdown",
      "metadata": {
        "id": "ynu17mR5aYX1"
      },
      "source": [
        "# 5. Evaluate the model"
      ]
    },
    {
      "cell_type": "markdown",
      "metadata": {
        "id": "tP1Fzwlszy8B"
      },
      "source": [
        "We will evaluate the performance of our trained Multi-Layer Perceptron (MLP) model for image classification on the test dataset.\n",
        "\n",
        "First, let's output the probabilities (one for each of the ten classes) of the 10,000 test images:\n",
        "\n",
        "\n"
      ]
    },
    {
      "cell_type": "code",
      "execution_count": null,
      "metadata": {
        "colab": {
          "base_uri": "https://localhost:8080/"
        },
        "id": "hAbaVxuwaxSJ",
        "outputId": "4179f833-4c5e-4d1d-9b87-f8a9dbc9d4f5"
      },
      "outputs": [],
      "source": [
        "predictions = model.predict(test_data)\n",
        "predictions.shape"
      ]
    },
    {
      "cell_type": "markdown",
      "metadata": {
        "id": "exNV2bkIerLO"
      },
      "source": [
        "**Run the following block multiple times to check the results on various images**"
      ]
    },
    {
      "cell_type": "code",
      "execution_count": null,
      "metadata": {
        "colab": {
          "base_uri": "https://localhost:8080/",
          "height": 497
        },
        "id": "zb1B65rKbG_u",
        "outputId": "3fd58fb8-72bf-4c9b-dc48-7f1793658e2b"
      },
      "outputs": [],
      "source": [
        "# pick one instance in the test dataset\n",
        "random_index = np.random.randint(len(test_data))\n",
        "\n",
        "# display probabilities\n",
        "fig, ax = plt.subplots(1, 2, figsize=(8, 4))\n",
        "ax[0].bar(class_names, predictions[random_index], color='skyblue')\n",
        "ax[0].set_title(f'Predicted probabilities for image {random_index} of test dataset')\n",
        "ax[0].set_ylabel('Probabilities')\n",
        "ax[0].set_xticklabels(class_names, rotation=45, ha='right')\n",
        "\n",
        "# show image\n",
        "ax[1].imshow(test_images[random_index])"
      ]
    },
    {
      "cell_type": "markdown",
      "metadata": {
        "id": "-dYyeBr_0ajC"
      },
      "source": [
        "We assign each instance to the class with maximal probability:"
      ]
    },
    {
      "cell_type": "code",
      "execution_count": null,
      "metadata": {
        "colab": {
          "base_uri": "https://localhost:8080/"
        },
        "id": "X42h_zGXdKbX",
        "outputId": "f69de3f9-fc88-43b7-d4cc-ce899e3a6042"
      },
      "outputs": [],
      "source": [
        "# from probabilities to predict\n",
        "predicted_classes = np.argmax(predictions, axis=-1)\n",
        "predicted_classes.shape"
      ]
    },
    {
      "cell_type": "markdown",
      "metadata": {
        "id": "lSNOdS_z0sIu"
      },
      "source": [
        "The confusion matrix helps us identify pairs like 'dog' and 'cat,' 'automobile' and 'truck,' and 'airplane' and 'ship,' which the model might have difficulties telling apart due to their visual similarities."
      ]
    },
    {
      "cell_type": "code",
      "execution_count": null,
      "metadata": {
        "colab": {
          "base_uri": "https://localhost:8080/",
          "height": 593
        },
        "id": "elhjNQPcdIfi",
        "outputId": "9e37606f-bdce-42f2-ab0c-91163d651a10"
      },
      "outputs": [],
      "source": [
        "# display confusion matrix\n",
        "cm = confusion_matrix(test_labels, predicted_classes)\n",
        "plt.figure(figsize=(8, 6))\n",
        "sns.heatmap(cm, annot=True, fmt='d', cmap='Blues', cbar=False,\n",
        "            xticklabels=class_names, yticklabels=class_names)\n",
        "plt.xticks(rotation=45, ha='right')\n",
        "plt.xlabel('Predicted labels')\n",
        "plt.ylabel('True labels')\n",
        "plt.show()"
      ]
    },
    {
      "cell_type": "code",
      "execution_count": null,
      "metadata": {
        "colab": {
          "base_uri": "https://localhost:8080/"
        },
        "id": "KTIyixjx7Fz8",
        "outputId": "64fe786b-863b-4b7c-c834-1c5e48dbb547"
      },
      "outputs": [],
      "source": [
        "# Exercise - derive the accuracy score on the test dataset\n",
        "print('Accuracy score:', accuracy_score(test_labels, predicted_classes))"
      ]
    },
    {
      "cell_type": "markdown",
      "metadata": {
        "id": "SzOVNnXafENC"
      },
      "source": [
        "# 6. Learning rate"
      ]
    },
    {
      "cell_type": "markdown",
      "metadata": {
        "id": "1FcNiVG_ACva"
      },
      "source": [
        "\n",
        "Understanding the impact of the learning rate on the training process is crucial for optimizing model performance. In this module, we'll see how the learning rate influences the speed of model convergence and the overall efficiency of the training process. By exploring the relationship between the learning rate and loss function, we'll try to identify the optimal learning rate for our Multi-Layer Perceptron (MLP) model on the CIFAR-10 dataset."
      ]
    },
    {
      "cell_type": "code",
      "execution_count": null,
      "metadata": {
        "id": "t0y4q9uGPOcC"
      },
      "outputs": [],
      "source": [
        "# function which defines, compiles and trains a model for values of lr and batch size\n",
        "def train_model_with_learning_rate(learning_rate, batch_size):\n",
        "    model = keras.Sequential([layers.Input(shape=(1024,)),\n",
        "                              layers.Dense(128, activation='relu'),\n",
        "                              layers.Dense(64, activation='relu'),\n",
        "                              layers.Dense(10, activation='softmax')])\n",
        "\n",
        "    model.compile(optimizer=keras.optimizers.Adam(learning_rate=learning_rate),\n",
        "                  loss=tf.keras.losses.SparseCategoricalCrossentropy(),\n",
        "                  metrics=['accuracy'])\n",
        "\n",
        "    history = model.fit(train_data, train_labels, batch_size=batch_size, epochs=10,\n",
        "                        validation_data=(test_data, test_labels))\n",
        "    return history"
      ]
    },
    {
      "cell_type": "markdown",
      "metadata": {
        "id": "YWYoupDuAYAc"
      },
      "source": [
        "By looping over the different learning rate, we can compare their learning curves.\n",
        "\n",
        "**Note**: running the following block can be quite long (a few minutes)..."
      ]
    },
    {
      "cell_type": "code",
      "execution_count": null,
      "metadata": {
        "id": "rhYO9z0F7Rd_"
      },
      "outputs": [],
      "source": [
        "histories = []\n",
        "for lr in [0.00001, 0.0001, 0.001, 0.01, 0.1]:\n",
        "  print(f'-------------- Learning rate = {lr} --------------')\n",
        "  history = train_model_with_learning_rate(learning_rate=lr, batch_size=128)\n",
        "  histories.append(history)"
      ]
    },
    {
      "cell_type": "code",
      "execution_count": null,
      "metadata": {
        "colab": {
          "base_uri": "https://localhost:8080/",
          "height": 467
        },
        "id": "f7wS5Es6Rj0e",
        "outputId": "2b72ea46-2436-4a16-fec9-8098fc702dba"
      },
      "outputs": [],
      "source": [
        "# display the learning curves (validation loss)\n",
        "for i, lr in enumerate([0.00001, 0.0001, 0.001, 0.01, 0.1]):\n",
        "  plt.plot(histories[i].history['val_loss'], label='LR = ' + str(lr))\n",
        "plt.ylabel('Loss')\n",
        "plt.xlabel('Epoch')\n",
        "plt.legend()\n"
      ]
    },
    {
      "cell_type": "markdown",
      "metadata": {
        "id": "PriGu3r67okZ"
      },
      "source": [
        "# 7. Exercise - Influence of the batch size on the training speed"
      ]
    },
    {
      "cell_type": "markdown",
      "metadata": {
        "id": "-BIC72yJBGOf"
      },
      "source": [
        "**Exercise**: By training the model with various values of batch size (for instance: 4, 16, 32, 256, 1024), find out how this hyperparameter influences the learning curves.\n",
        "\n",
        "**Note**: Training a model on multiple epochs with a low number of batch size (e.g. 4) can be very slow due to the increased frequency of weight updates. Increasing the batch size allows for more efficient parallel processing, and a too high batch size might lead to a memory overload."
      ]
    },
    {
      "cell_type": "code",
      "execution_count": null,
      "metadata": {
        "colab": {
          "base_uri": "https://localhost:8080/"
        },
        "id": "qPnhzd9W2hnc",
        "outputId": "45a59d30-b1f6-48c4-bb16-1b8db31f03ee"
      },
      "outputs": [],
      "source": []
    },
    {
      "cell_type": "markdown",
      "metadata": {
        "id": "uIv_EsF_9bLT"
      },
      "source": [
        "# 8. Exercise - do colors matter?"
      ]
    },
    {
      "cell_type": "markdown",
      "metadata": {
        "id": "OVSWK-v7HyeD"
      },
      "source": [
        "**Exercise**: Train a model which uses the original color images instead of the grayscale images. Does this model outperform the previous model - i.e. do colors help the model to interpret images?\n",
        "\n",
        "**Hint**: You can consider converting each image - of original shape $(32, 32, 3)$ - to a one-dimensional vector of shape $(3072, )$"
      ]
    },
    {
      "cell_type": "code",
      "execution_count": null,
      "metadata": {
        "colab": {
          "base_uri": "https://localhost:8080/"
        },
        "id": "Al8SLpbs9Bxd",
        "outputId": "2b2c7c76-b055-46ba-88fb-4dc62e524326"
      },
      "outputs": [],
      "source": []
    },
    {
      "cell_type": "markdown",
      "metadata": {
        "id": "6Q8f3ku9dBvm"
      },
      "source": [
        "# 9. Optional content - Keras callback: Reduce learning rate on plateau"
      ]
    },
    {
      "cell_type": "markdown",
      "metadata": {
        "id": "PLgEtUmy1qHw"
      },
      "source": [
        "Keras offers powerful callbacks to monitor and adjust the model during training. We'll focus on two key callbacks:\n",
        "\n",
        "- **ReduceLROnPlateau:** Adjusts the learning rate during plateaus for stable convergence. It uses high learning rate at the start of the training and gradually reduces it.\n",
        "- **EarlyStopping:** Halts training when validation loss stagnates, preventing overfitting. We already used it in section 4.\n",
        "\n",
        "Implementing these callbacks enhances our MLP model's learning and performance on the CIFAR-10 dataset."
      ]
    },
    {
      "cell_type": "code",
      "execution_count": null,
      "metadata": {
        "id": "rJYHQI3jEiim"
      },
      "outputs": [],
      "source": [
        "# Defining the ReduceLROnPlateau callback\n",
        "reduce_lr = tf.keras.callbacks.ReduceLROnPlateau(monitor='val_loss',\n",
        "                                                 factor=0.5, patience=4, min_lr=0.000001)\n",
        "\n",
        "# Defining the EarlyStopping callback\n",
        "early_stop = tf.keras.callbacks.EarlyStopping(monitor='val_loss',\n",
        "                                              patience=7, restore_best_weights=True)"
      ]
    },
    {
      "cell_type": "markdown",
      "metadata": {
        "id": "CabDBYAQ7FFt"
      },
      "source": [
        "Re-initialize and compile the model, this time with a larger learning rate (0.01 instead of 0.001)"
      ]
    },
    {
      "cell_type": "code",
      "execution_count": null,
      "metadata": {
        "id": "5nbS7gf_3AYz"
      },
      "outputs": [],
      "source": [
        "model = keras.Sequential([layers.Input(shape=(3072,)),\n",
        "                              layers.Dense(128, activation='relu'),\n",
        "                              layers.Dense(64, activation='relu'),\n",
        "                              layers.Dense(10, activation='softmax')])\n",
        "model.compile(optimizer=tf.keras.optimizers.Adam(learning_rate=0.001),\n",
        "              loss=tf.keras.losses.SparseCategoricalCrossentropy(),\n",
        "              metrics=['accuracy'])"
      ]
    },
    {
      "cell_type": "code",
      "execution_count": null,
      "metadata": {
        "colab": {
          "base_uri": "https://localhost:8080/"
        },
        "id": "BPykeVzE2eFJ",
        "outputId": "630edbad-f785-4bda-e3e3-b88a550bd58c"
      },
      "outputs": [],
      "source": [
        "# Adding the callbacks to the model training\n",
        "history = model.fit(train_data, train_labels,\n",
        "                    batch_size=128,\n",
        "                    epochs=100,\n",
        "                    validation_data=(test_data, test_labels),\n",
        "                    callbacks=[reduce_lr, early_stop])"
      ]
    },
    {
      "cell_type": "code",
      "execution_count": null,
      "metadata": {
        "colab": {
          "base_uri": "https://localhost:8080/",
          "height": 490
        },
        "id": "w-28n5kb372M",
        "outputId": "4105e49d-ae1a-4506-ac22-52c4a32996b9"
      },
      "outputs": [],
      "source": [
        "plt.plot(history.history['loss'], label='train')\n",
        "plt.plot(history.history['val_loss'], label='validation')\n",
        "plt.ylabel('Loss')\n",
        "plt.xlabel('Epoch')\n",
        "plt.legend()\n",
        "plt.title('Learning curves')"
      ]
    },
    {
      "cell_type": "markdown",
      "metadata": {
        "id": "3vJGx1H7Djk0"
      },
      "source": [
        "# **THE END**"
      ]
    }
  ],
  "metadata": {
    "colab": {
      "provenance": []
    },
    "kernelspec": {
      "display_name": "Python 3",
      "name": "python3"
    },
    "language_info": {
      "name": "python"
    }
  },
  "nbformat": 4,
  "nbformat_minor": 0
}
